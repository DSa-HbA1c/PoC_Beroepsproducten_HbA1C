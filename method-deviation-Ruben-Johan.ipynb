{
 "cells": [
  {
   "cell_type": "markdown",
   "metadata": {},
   "source": [
    "# Over dit document\n",
    "In dit document wordt een CRISP-DM cycles doorlopen, welke vervolgens een dataproduct (visualisaties) op zal leveren. Tot slot wordt er een conclusie getrokken en advies gegeven. \n",
    "\n",
    "# Business understanding\n",
    "Het ziekenhuis Isala wil de zorg voor diabetespatiënten verbeteren. Het gaat hier specifiek om het behandelproces door onnauwkeurigheden in metingen te filteren en hierop te baseren of een behandelplan aangepast moet worden of niet. Visualisaties zullen helpen bij het verkrijgen van inzicht van diverse meetmethoden om vervolgens conclusies te kunnen trekken. Die zijn er nog niet. \n",
    "\n",
    "\n",
    "Voor een als er een voorspelling wordt gemaakt: \n",
    "\n",
    "Daarbij zou een visualisatie van een voorspelling meer inzicht brengen in hoe de total error mogelijk zal veranderen per jaar. Dit zou kunnen resulteren in toekomstige plannen voor het standaardiseren van de HbA1c meetmethoden.\n",
    "\n",
    "# Data understanding\n",
    "Welke databronnen zijn gegeven en in welk formaat:\n",
    "Een excel bestand genaamd: Complete-dataset-FINAL.xlsx\n",
    "##### note\n",
    "Het excel bestand dat gebruikt gaat worden, is het resultaat van rapporten die om zijn gezet naar excel. Dit is de meest recente versie waarin de meetmethoden zijn genormaliseerd en de waarden dubbelgecheckt zijn.\n",
    "\n",
    "Hoe groot zijn deze databronnen:\n",
    "355 kB\n",
    "\n",
    "-4685 rijen\n",
    "\n",
    "-12 kolommen\n",
    "\n",
    "\n",
    "Kolomnamen: Method name, N (no. labs), Mean, Bias, CV, Sample, Reference value, Year, Source, Type, Manufacturer (fabrikant).\n",
    "\n",
    "# Data preparation\n",
    "\n"
   ]
  },
  {
   "cell_type": "code",
   "execution_count": 1,
   "metadata": {},
   "outputs": [
    {
     "data": {
      "text/html": [
       "        <script type=\"text/javascript\">\n",
       "        window.PlotlyConfig = {MathJaxConfig: 'local'};\n",
       "        if (window.MathJax && window.MathJax.Hub && window.MathJax.Hub.Config) {window.MathJax.Hub.Config({SVG: {font: \"STIX-Web\"}});}\n",
       "        if (typeof require !== 'undefined') {\n",
       "        require.undef(\"plotly\");\n",
       "        requirejs.config({\n",
       "            paths: {\n",
       "                'plotly': ['https://cdn.plot.ly/plotly-2.12.1.min']\n",
       "            }\n",
       "        });\n",
       "        require(['plotly'], function(Plotly) {\n",
       "            window._Plotly = Plotly;\n",
       "        });\n",
       "        }\n",
       "        </script>\n",
       "        "
      ]
     },
     "metadata": {},
     "output_type": "display_data"
    }
   ],
   "source": [
    "# importeren van alle functies en het lezen van het databestand.\n",
    "import pandas as pd\n",
    "import seaborn as sns\n",
    "import matplotlib.pyplot as plt\n",
    "from ipywidgets import interact, interactive, fixed, interact_manual\n",
    "import ipywidgets as widgets\n",
    "import plotly.express as px\n",
    "import cufflinks as cf\n",
    "import numpy as np\n",
    "cf.go_offline()\n",
    "cf.set_config_file(offline=False, world_readable=True)\n",
    "from sklearn.cluster import KMeans\n",
    "\n",
    "df = pd.read_excel(\"Complete-dataset-FINAL.xlsx\")"
   ]
  },
  {
   "cell_type": "code",
   "execution_count": 2,
   "metadata": {},
   "outputs": [
    {
     "name": "stdout",
     "output_type": "stream",
     "text": [
      "<class 'pandas.core.frame.DataFrame'>\n",
      "RangeIndex: 4684 entries, 0 to 4683\n",
      "Data columns (total 12 columns):\n",
      " #   Column               Non-Null Count  Dtype  \n",
      "---  ------               --------------  -----  \n",
      " 0   Method name          4684 non-null   object \n",
      " 1   N (no. labs)         4684 non-null   object \n",
      " 2   Mean                 4602 non-null   float64\n",
      " 3   Bias                 4058 non-null   float64\n",
      " 4   CV                   4584 non-null   float64\n",
      " 5   Sample               4684 non-null   object \n",
      " 6   Reference Value      4656 non-null   float64\n",
      " 7   Year                 4684 non-null   int64  \n",
      " 8   Source (CAP/EurA1c)  4684 non-null   object \n",
      " 9   Type (Fresh/frozen)  4684 non-null   object \n",
      " 10  Manufacturer         4684 non-null   object \n",
      " 11  Total Error          4684 non-null   float64\n",
      "dtypes: float64(5), int64(1), object(6)\n",
      "memory usage: 439.2+ KB\n"
     ]
    }
   ],
   "source": [
    "df[\"Bias\"] = df[\"Bias\"].replace(\"-\", np.nan)\n",
    "df[\"Bias\"] = pd.to_numeric(df[\"Bias\"])\n",
    "\n",
    "df[\"Mean\"] = df[\"Mean\"].replace(\"-\", np.nan)\n",
    "df[\"Mean\"] = pd.to_numeric(df[\"Mean\"])\n",
    "\n",
    "df[\"CV\"] = df[\"CV\"].replace(\"-\", np.nan)\n",
    "df[\"CV\"] = df[\"CV\"].replace(\" \", np.nan)\n",
    "df[\"CV\"] = pd.to_numeric(df[\"CV\"])\n",
    "\n",
    "df.info()"
   ]
  },
  {
   "cell_type": "markdown",
   "metadata": {
    "tags": []
   },
   "source": [
    "# Data groeperen\n",
    "Wij groeperen de data zodat wij de methodes netjes bij elkaar hebben staan. Hierdoor kunnen wij visualisaties op basis van methode maken."
   ]
  },
  {
   "cell_type": "code",
   "execution_count": 3,
   "metadata": {},
   "outputs": [
    {
     "data": {
      "text/html": [
       "<div>\n",
       "<style scoped>\n",
       "    .dataframe tbody tr th:only-of-type {\n",
       "        vertical-align: middle;\n",
       "    }\n",
       "\n",
       "    .dataframe tbody tr th {\n",
       "        vertical-align: top;\n",
       "    }\n",
       "\n",
       "    .dataframe thead th {\n",
       "        text-align: right;\n",
       "    }\n",
       "</style>\n",
       "<table border=\"1\" class=\"dataframe\">\n",
       "  <thead>\n",
       "    <tr style=\"text-align: right;\">\n",
       "      <th></th>\n",
       "      <th>Method name</th>\n",
       "      <th>Year</th>\n",
       "      <th>CV</th>\n",
       "    </tr>\n",
       "  </thead>\n",
       "  <tbody>\n",
       "    <tr>\n",
       "      <th>0</th>\n",
       "      <td>A1cNOW</td>\n",
       "      <td>2006</td>\n",
       "      <td>7.377778</td>\n",
       "    </tr>\n",
       "    <tr>\n",
       "      <th>1</th>\n",
       "      <td>A1cNOW</td>\n",
       "      <td>2007</td>\n",
       "      <td>6.616667</td>\n",
       "    </tr>\n",
       "    <tr>\n",
       "      <th>2</th>\n",
       "      <td>A1cNOW</td>\n",
       "      <td>2008</td>\n",
       "      <td>6.250000</td>\n",
       "    </tr>\n",
       "    <tr>\n",
       "      <th>3</th>\n",
       "      <td>A1cNOW</td>\n",
       "      <td>2009</td>\n",
       "      <td>6.100000</td>\n",
       "    </tr>\n",
       "    <tr>\n",
       "      <th>4</th>\n",
       "      <td>A1cNOW</td>\n",
       "      <td>2010</td>\n",
       "      <td>4.883333</td>\n",
       "    </tr>\n",
       "    <tr>\n",
       "      <th>...</th>\n",
       "      <td>...</td>\n",
       "      <td>...</td>\n",
       "      <td>...</td>\n",
       "    </tr>\n",
       "    <tr>\n",
       "      <th>586</th>\n",
       "      <td>Vitros 5.1 FS. 4600. 5600</td>\n",
       "      <td>2018</td>\n",
       "      <td>2.573333</td>\n",
       "    </tr>\n",
       "    <tr>\n",
       "      <th>587</th>\n",
       "      <td>Vitros 5.1 FS. 4600. 5600</td>\n",
       "      <td>2019</td>\n",
       "      <td>3.064706</td>\n",
       "    </tr>\n",
       "    <tr>\n",
       "      <th>588</th>\n",
       "      <td>Vitros 5.1 FS. 4600. 5600</td>\n",
       "      <td>2020</td>\n",
       "      <td>2.750000</td>\n",
       "    </tr>\n",
       "    <tr>\n",
       "      <th>589</th>\n",
       "      <td>Vitros 5.1 FS/4600/5600/XT7600 Chem. Systems</td>\n",
       "      <td>2020</td>\n",
       "      <td>2.650000</td>\n",
       "    </tr>\n",
       "    <tr>\n",
       "      <th>590</th>\n",
       "      <td>Vitros 5.1 FS/4600/5600/XT7600 Chem. Systems</td>\n",
       "      <td>2021</td>\n",
       "      <td>2.646667</td>\n",
       "    </tr>\n",
       "  </tbody>\n",
       "</table>\n",
       "<p>591 rows × 3 columns</p>\n",
       "</div>"
      ],
      "text/plain": [
       "                                      Method name  Year        CV\n",
       "0                                          A1cNOW  2006  7.377778\n",
       "1                                          A1cNOW  2007  6.616667\n",
       "2                                          A1cNOW  2008  6.250000\n",
       "3                                          A1cNOW  2009  6.100000\n",
       "4                                          A1cNOW  2010  4.883333\n",
       "..                                            ...   ...       ...\n",
       "586                     Vitros 5.1 FS. 4600. 5600  2018  2.573333\n",
       "587                     Vitros 5.1 FS. 4600. 5600  2019  3.064706\n",
       "588                     Vitros 5.1 FS. 4600. 5600  2020  2.750000\n",
       "589  Vitros 5.1 FS/4600/5600/XT7600 Chem. Systems  2020  2.650000\n",
       "590  Vitros 5.1 FS/4600/5600/XT7600 Chem. Systems  2021  2.646667\n",
       "\n",
       "[591 rows x 3 columns]"
      ]
     },
     "execution_count": 3,
     "metadata": {},
     "output_type": "execute_result"
    }
   ],
   "source": [
    "df2 = df[[\"Method name\", \"Year\", \"CV\"]]\n",
    "\n",
    "df3 = df2.groupby([\"Method name\",\"Year\"]).mean()\n",
    "df3 = df3.reset_index()\n",
    "# df3 = df3.set_index(\"Method name\")\n",
    "\n",
    "df3"
   ]
  },
  {
   "cell_type": "code",
   "execution_count": 4,
   "metadata": {},
   "outputs": [
    {
     "data": {
      "text/html": [
       "<div>\n",
       "<style scoped>\n",
       "    .dataframe tbody tr th:only-of-type {\n",
       "        vertical-align: middle;\n",
       "    }\n",
       "\n",
       "    .dataframe tbody tr th {\n",
       "        vertical-align: top;\n",
       "    }\n",
       "\n",
       "    .dataframe thead th {\n",
       "        text-align: right;\n",
       "    }\n",
       "</style>\n",
       "<table border=\"1\" class=\"dataframe\">\n",
       "  <thead>\n",
       "    <tr style=\"text-align: right;\">\n",
       "      <th></th>\n",
       "      <th>Method name</th>\n",
       "      <th>Year</th>\n",
       "      <th>CV</th>\n",
       "    </tr>\n",
       "  </thead>\n",
       "  <tbody>\n",
       "    <tr>\n",
       "      <th>9</th>\n",
       "      <td>Abbott Alinity ci series</td>\n",
       "      <td>2019</td>\n",
       "      <td>1.260000</td>\n",
       "    </tr>\n",
       "    <tr>\n",
       "      <th>10</th>\n",
       "      <td>Abbott Alinity ci series</td>\n",
       "      <td>2020</td>\n",
       "      <td>1.686667</td>\n",
       "    </tr>\n",
       "    <tr>\n",
       "      <th>11</th>\n",
       "      <td>Abbott Alinity ci series</td>\n",
       "      <td>2021</td>\n",
       "      <td>1.606667</td>\n",
       "    </tr>\n",
       "    <tr>\n",
       "      <th>36</th>\n",
       "      <td>Abbott Architect c System</td>\n",
       "      <td>2011</td>\n",
       "      <td>4.400000</td>\n",
       "    </tr>\n",
       "    <tr>\n",
       "      <th>37</th>\n",
       "      <td>Abbott Architect c System</td>\n",
       "      <td>2012</td>\n",
       "      <td>3.766667</td>\n",
       "    </tr>\n",
       "    <tr>\n",
       "      <th>...</th>\n",
       "      <td>...</td>\n",
       "      <td>...</td>\n",
       "      <td>...</td>\n",
       "    </tr>\n",
       "    <tr>\n",
       "      <th>568</th>\n",
       "      <td>Trinity Biotech Premier Hb9210 HPLC</td>\n",
       "      <td>2019</td>\n",
       "      <td>2.000000</td>\n",
       "    </tr>\n",
       "    <tr>\n",
       "      <th>569</th>\n",
       "      <td>Trinity Biotech Premier Hb9210 HPLC</td>\n",
       "      <td>2020</td>\n",
       "      <td>2.126667</td>\n",
       "    </tr>\n",
       "    <tr>\n",
       "      <th>570</th>\n",
       "      <td>Trinity Biotech Premier Hb9210 HPLC</td>\n",
       "      <td>2021</td>\n",
       "      <td>1.953333</td>\n",
       "    </tr>\n",
       "    <tr>\n",
       "      <th>589</th>\n",
       "      <td>Vitros 5.1 FS/4600/5600/XT7600 Chem. Systems</td>\n",
       "      <td>2020</td>\n",
       "      <td>2.650000</td>\n",
       "    </tr>\n",
       "    <tr>\n",
       "      <th>590</th>\n",
       "      <td>Vitros 5.1 FS/4600/5600/XT7600 Chem. Systems</td>\n",
       "      <td>2021</td>\n",
       "      <td>2.646667</td>\n",
       "    </tr>\n",
       "  </tbody>\n",
       "</table>\n",
       "<p>213 rows × 3 columns</p>\n",
       "</div>"
      ],
      "text/plain": [
       "                                      Method name  Year        CV\n",
       "9                        Abbott Alinity ci series  2019  1.260000\n",
       "10                       Abbott Alinity ci series  2020  1.686667\n",
       "11                       Abbott Alinity ci series  2021  1.606667\n",
       "36                      Abbott Architect c System  2011  4.400000\n",
       "37                      Abbott Architect c System  2012  3.766667\n",
       "..                                            ...   ...       ...\n",
       "568           Trinity Biotech Premier Hb9210 HPLC  2019  2.000000\n",
       "569           Trinity Biotech Premier Hb9210 HPLC  2020  2.126667\n",
       "570           Trinity Biotech Premier Hb9210 HPLC  2021  1.953333\n",
       "589  Vitros 5.1 FS/4600/5600/XT7600 Chem. Systems  2020  2.650000\n",
       "590  Vitros 5.1 FS/4600/5600/XT7600 Chem. Systems  2021  2.646667\n",
       "\n",
       "[213 rows x 3 columns]"
      ]
     },
     "execution_count": 4,
     "metadata": {},
     "output_type": "execute_result"
    }
   ],
   "source": [
    "# Verwijder methodes die maar 1 keer voorkomen\n",
    "method_occurance = df3[\"Method name\"].value_counts()\n",
    "less_than_one = method_occurance[method_occurance <= 1].index\n",
    "dfFiltered = df3[~df3[\"Method name\"].isin(less_than_one)]\n",
    "\n",
    "# Filter de dataset op dat deze 2021 bevat\n",
    "has_2021 = dfFiltered.groupby([\"Method name\"])['Year'].max()[lambda x: x != 2021].keys()\n",
    "dfFiltered = dfFiltered[~dfFiltered[\"Method name\"].isin(has_2021)]\n",
    "\n",
    "dfFiltered"
   ]
  },
  {
   "cell_type": "markdown",
   "metadata": {},
   "source": [
    "# Modelling\n",
    "\n",
    "Er is gekozen voor een lijngrafiek, omdat dit de duidelijkste manier is om de trend over de jaren weer te geven. Vanwege het relatief hoge aantal methodes is erin eerste instantie voor gekozen om een dropdownmenu van grafieken te maken per methode in plaats van ze allemaal in één grafiek te zetten. Dit zou anders te onoverzichtelijk zijn geworden. Er is wel een grafiek met het gemiddelde van alle methodes gemaakt. Dit kan gebruikt worden om per methode te vergelijken hoe de trend is vergeleken met het gemiddelde, maar heeft op zichzelf geen waarde.\n",
    "\n",
    "Voor het voorspellende aspect op deze dataset is een regressieplot gebruikt. Ook hier zijn de grafieken weer per methode gescheiden voor overzichtelijkheid. Hier is vervolgens op doorgewerkt om de voorspelling voor het volgende jaar(2022) te maken. Vervolgens zijn de lijngrafiek, de voorspellende lijn en de ondersteunende data voor de voorspellingen gecombineerd in één overzicht, wederom gescheiden per methode."
   ]
  },
  {
   "cell_type": "code",
   "execution_count": 5,
   "metadata": {},
   "outputs": [],
   "source": [
    "# Realiseren: laat de lijngrafieken zien die bij een specifieke manufacturer horen.\n",
    "def lijngrafiek(method):\n",
    "    filteredDf = dfFiltered[dfFiltered[\"Method name\"]== method]\n",
    "    sns.relplot(data=dfFiltered, x=\"Year\", y=\"CV\", hue=filteredDf[\"Method name\"], kind=\"line\")"
   ]
  },
  {
   "cell_type": "code",
   "execution_count": 6,
   "metadata": {},
   "outputs": [
    {
     "data": {
      "application/vnd.jupyter.widget-view+json": {
       "model_id": "9d1b813005a446b994cf4cb309c5b40b",
       "version_major": 2,
       "version_minor": 0
      },
      "text/plain": [
       "interactive(children=(Dropdown(description='method', options=('Abbott Alinity ci series', 'Abbott Architect c …"
      ]
     },
     "metadata": {},
     "output_type": "display_data"
    },
    {
     "data": {
      "text/plain": [
       "<function __main__.lijngrafiek(method)>"
      ]
     },
     "execution_count": 6,
     "metadata": {},
     "output_type": "execute_result"
    }
   ],
   "source": [
    "# Per Methode\n",
    "interact(lijngrafiek, method = dfFiltered[\"Method name\"].unique())"
   ]
  },
  {
   "cell_type": "code",
   "execution_count": 7,
   "metadata": {},
   "outputs": [
    {
     "data": {
      "text/plain": [
       "<seaborn.axisgrid.FacetGrid at 0x1faf3a10be0>"
      ]
     },
     "execution_count": 7,
     "metadata": {},
     "output_type": "execute_result"
    },
    {
     "data": {
      "image/png": "[encoded data removed]",
      "text/plain": [
       "<Figure size 360x360 with 1 Axes>"
      ]
     },
     "metadata": {
      "needs_background": "light"
     },
     "output_type": "display_data"
    }
   ],
   "source": [
    "# Algemeen\n",
    "sns.relplot(data=dfFiltered, x=\"Year\", y=\"CV\", kind=\"line\")"
   ]
  },
  {
   "cell_type": "code",
   "execution_count": 8,
   "metadata": {},
   "outputs": [],
   "source": [
    "# regressievergelijking waarop kan worden voorspeld.\n",
    "def regressie(method):\n",
    "    regDf = dfFiltered[dfFiltered[\"Method name\"]== method]\n",
    "    sns.regplot(data=regDf, x=\"Year\", y=\"CV\")"
   ]
  },
  {
   "cell_type": "code",
   "execution_count": 9,
   "metadata": {},
   "outputs": [
    {
     "data": {
      "application/vnd.jupyter.widget-view+json": {
       "model_id": "c76a1710cd354cb9b1cc79e03de1d925",
       "version_major": 2,
       "version_minor": 0
      },
      "text/plain": [
       "interactive(children=(Dropdown(description='method', options=('Abbott Alinity ci series', 'Abbott Architect c …"
      ]
     },
     "metadata": {},
     "output_type": "display_data"
    },
    {
     "data": {
      "text/plain": [
       "<function __main__.regressie(method)>"
      ]
     },
     "execution_count": 9,
     "metadata": {},
     "output_type": "execute_result"
    }
   ],
   "source": [
    "interact(regressie, method = dfFiltered['Method name'].unique())"
   ]
  },
  {
   "cell_type": "code",
   "execution_count": 10,
   "metadata": {},
   "outputs": [],
   "source": [
    "import statsmodels.api as sm\n",
    "def predict2022(method):\n",
    "    # tempdf = dfFiltered[dfFiltered[\"Method name\"]== method].dropna()\n",
    "    tempdf = df2[df2[\"Method name\"]== method].dropna()\n",
    "    X = tempdf[\"Year\"]\n",
    "    Y = tempdf[\"CV\"]\n",
    "\n",
    "    # Fit and make the predictions by the model\n",
    "    model = sm.OLS(Y, X).fit()\n",
    "    predictions = model.predict(X)\n",
    "\n",
    "    preddf = pd.DataFrame(predictions, columns=['CV'])\n",
    "    preddf['Method name'] = method\n",
    "    preddf['Year'] = \"2022\"\n",
    "    preddf = preddf.groupby('Year').mean().reset_index()\n",
    "    preddf[\"CV\"].dropna()\n",
    "\n",
    "    # Print out the statistics\n",
    "    # return model.summary()\n",
    "\n",
    "    regDf = pd.concat([tempdf,preddf])\n",
    "\n",
    "    year = regDf['Year'].astype(int)\n",
    "    sns.lineplot(x = 'Year', y = 'CV', data = regDf)\n",
    "    sns.lineplot(x = 'Year', y = 'CV', data = regDf[(year >= 2021) & (year <= 2022)], color= 'lime')\n",
    "\n",
    "\n",
    "    return model.summary()\n",
    "\n",
    "\n"
   ]
  },
  {
   "cell_type": "code",
   "execution_count": 11,
   "metadata": {},
   "outputs": [
    {
     "data": {
      "application/vnd.jupyter.widget-view+json": {
       "model_id": "45f360ba743d4971999797528bead1cf",
       "version_major": 2,
       "version_minor": 0
      },
      "text/plain": [
       "interactive(children=(Dropdown(description='method', options=('Abbott Alinity ci series', 'Abbott Architect c …"
      ]
     },
     "metadata": {},
     "output_type": "display_data"
    },
    {
     "data": {
      "text/plain": [
       "<function __main__.predict2022(method)>"
      ]
     },
     "execution_count": 11,
     "metadata": {},
     "output_type": "execute_result"
    }
   ],
   "source": [
    "interact(predict2022, method = dfFiltered['Method name'].unique())"
   ]
  },
  {
   "cell_type": "markdown",
   "metadata": {},
   "source": [
    "# Evaluation\n",
    "\n",
    "Naar aanleiding van feedback is gebleken dat omrekening van de Europese data naar de Amerikaanse eenheden niet geheel juist is verlopen. Desondanks is er in deze grafieken wel gebruik gemaakt van de gecombineerde dataset. Verder zijn er twijfels over de waarde van voorspellingen op dit gebied. Niet alleen is de data beperkt, de accuraatheid van de meetmethodes wordt jaarlijks gemeten door de instanties van wie wij deze data hebben ontvangen. De metingen voor 2022 zijn al gedaan en zelfs al was dit niet het geval, vermoeden we dat ziekenhuizen liever metingen dan voorspellingen gebruiken. Wij adviseren daarom ook om erg voorzichtig te zijn met het gebruik van deze voorspellingen en per methode goed te kijken hoeveel datapunten er zijn meegenomen."
   ]
  },
  {
   "cell_type": "code",
   "execution_count": null,
   "metadata": {},
   "outputs": [],
   "source": []
  }
 ],
 "metadata": {
  "interpreter": {
   "hash": "60659aadc3b7310f9e719bfb244dca1afbdbbf0dd4b71f5b8389e77da1a53da3"
  },
  "kernelspec": {
   "display_name": "Python 3 (ipykernel)",
   "language": "python",
   "name": "python3"
  },
  "language_info": {
   "codemirror_mode": {
    "name": "ipython",
    "version": 3
   },
   "file_extension": ".py",
   "mimetype": "text/x-python",
   "name": "python",
   "nbconvert_exporter": "python",
   "pygments_lexer": "ipython3",
   "version": "3.9.7"
  }
 },
 "nbformat": 4,
 "nbformat_minor": 4
}
