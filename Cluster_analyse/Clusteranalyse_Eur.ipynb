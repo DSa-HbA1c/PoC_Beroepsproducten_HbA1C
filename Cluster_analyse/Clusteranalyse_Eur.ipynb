{
 "cells": [
  {
   "cell_type": "markdown",
   "id": "65479b92",
   "metadata": {},
   "source": [
    "# Over dit document\n",
    "In dit document wordt een CRISP-DM cycles doorlopen, welke vervolgens een dataproduct (visualisaties) op zal leveren. Tot slot wordt er een conclusie getrokken en advies gegeven. Hiervoor is ter ondersteuning het Data Ethics Decision Aid model (DEDA model) voor gebruikt.\n",
    "\n",
    "Auteur: Eefkje-Femke Jansen van der Sligte"
   ]
  },
  {
   "cell_type": "code",
   "execution_count": null,
   "id": "fe2ef2aa",
   "metadata": {},
   "outputs": [],
   "source": [
    "import pandas as pd\n",
    "import matplotlib.pyplot as plt\n",
    "import seaborn as sns\n",
    "import numpy as np\n",
    "from sklearn.cluster import KMeans, BisectingKMeans\n",
    "df_original=pd.read_excel(\"Complete-dataset-FINAL.xlsx\")\n",
    "\n",
    "pd.options.mode.chained_assignment = None  # default='warn'"
   ]
  },
  {
   "cell_type": "code",
   "execution_count": null,
   "id": "15ed2079",
   "metadata": {},
   "outputs": [],
   "source": [
    "import cufflinks as cf\n",
    "cf.go_offline()\n",
    "cf.set_config_file(offline=False, world_readable=True)"
   ]
  },
  {
   "cell_type": "markdown",
   "id": "716ef891",
   "metadata": {},
   "source": [
    "# Business Understanding\n",
    "Het Isala ziekenhuis wil de zorg voor diabetespatiënten verbeteren. Het gaat hier specifiek om het behandelproces. Door onnauwkeurigheden in metingen te filteren en hierop een behandelplan aan te passen, zal er een verbetering optreden in de analyse. Visualisaties zullen helpen bij het verkrijgen van inzicht in de foutmarges van diverse meetmethoden. Op dit moment zijn er geen visualisaties die dat in kaart brengen. Om meer inzicht te bieden, willen we gaan kijken naar mogelijke relaties die er nog niet zijn. Dit zal worden gedaan door het clusteren van de Europese meetmethoden.\n",
    "\n",
    "\n",
    "# Data Understanding\n",
    "Welke databronnen zijn gegeven en in welk formaat: Een excel bestand genaamd: Complete-dataset-FINAL.xlsx\n",
    "\n",
    "### note\n",
    "Het excel bestand dat gebruikt gaat worden, is het resultaat van rapporten die om zijn gezet naar excel. Dit is de meest recente versie waarin de meetmethoden zijn genormaliseerd en de waarden dubbelgecheckt zijn.\n",
    "\n",
    "Hoe groot zijn deze databronnen: 355 kB\n",
    "\n",
    "-4685 rijen\n",
    "\n",
    "-12 kolommen\n",
    "\n",
    "Kolomnamen: Method name, N (no. labs), Mean, Bias, CV, Sample, Reference value, Year, Source, Type, Manufacturer (fabrikant).\n",
    "- Method name : Naam van het meetmethode\n",
    "- N\t: Aantal deelgenomen labs\n",
    "- Mean :  Gemiddelde van alle HbA1c waarde\n",
    "- Bias : Absolute toe- of afname van de hoeveelheid mmol/mol ten opzichte van de werkelijke waarde\n",
    "- CV : Laat zien wat de spreiding is de metingen\n",
    "- Sample : Hoeveelste meting in het jaar\n",
    "- Reference Value : Variabel die is gebaseerd op 95% van de gezonde populatie\t\t\n",
    "- Year : Welk jaar de meting is gedaan\n",
    "- Source\t: Amerikaanse of Europese data\n",
    "- Type : Vers of bevroren samples\n",
    "\n",
    "Datatypes: Object, float en int (jaar) \n"
   ]
  },
  {
   "cell_type": "code",
   "execution_count": null,
   "id": "8e6cd7d3",
   "metadata": {},
   "outputs": [],
   "source": [
    "df_original.shape"
   ]
  },
  {
   "cell_type": "code",
   "execution_count": null,
   "id": "0ebdb1f8",
   "metadata": {},
   "outputs": [],
   "source": [
    "df_original.dtypes"
   ]
  },
  {
   "cell_type": "code",
   "execution_count": null,
   "id": "1979a62d",
   "metadata": {},
   "outputs": [],
   "source": [
    "df_original.isna().sum()\n"
   ]
  },
  {
   "cell_type": "code",
   "execution_count": null,
   "id": "4b31a1e5",
   "metadata": {},
   "outputs": [],
   "source": [
    "df_original.describe().transpose()"
   ]
  },
  {
   "cell_type": "code",
   "execution_count": null,
   "id": "88bc1ef2",
   "metadata": {},
   "outputs": [],
   "source": [
    "df_original.columns"
   ]
  },
  {
   "cell_type": "markdown",
   "id": "473e2d53",
   "metadata": {},
   "source": [
    "# Data Preparation\n",
    "\n",
    "In deze fase zal het dataframe aangepast worden om een clustermodel toe te kunnen passen. \n",
    "De volgende vragen zijn als richtlijn gebruikt om de data voor te bereiden:\n",
    "\n",
    "- Moet er nog een kolom weg?\n",
    "- Zijn er aanpassingen nodig aan de data voordat we met modelling aan de slag kunnen?\n",
    "- Moet de data nog genormaliseerd worden?\n",
    "- Zijn er lege velden?"
   ]
  },
  {
   "cell_type": "code",
   "execution_count": null,
   "id": "30e25031",
   "metadata": {},
   "outputs": [],
   "source": [
    "#Scheidt de data en verwijder obect kolommen voor clustering\n",
    "df_Eur=df_original.loc[df_original['Source (CAP/EurA1c)'] == 'EURA1c']\n",
    "df_Eur = df_Eur.drop(columns=['N (no. labs)', 'Source (CAP/EurA1c)', 'Type (Fresh/frozen)', 'Manufacturer', 'Sample', 'Method name' , 'Total Error' , 'Bias']) # kolomm weggooien\n",
    "df_Eur.columns "
   ]
  },
  {
   "cell_type": "code",
   "execution_count": null,
   "id": "e95d056b",
   "metadata": {},
   "outputs": [],
   "source": [
    "df_Eur.isna().sum()"
   ]
  },
  {
   "cell_type": "markdown",
   "id": "77552545",
   "metadata": {},
   "source": [
    "Er zijn geen lege waarden te vinden in de dataset."
   ]
  },
  {
   "cell_type": "code",
   "execution_count": null,
   "id": "fdb26e9a",
   "metadata": {},
   "outputs": [],
   "source": [
    "#omzetten van object kolommen naar float kolommen voor de clustering\n",
    "df_Eur[\"Mean\"] = df_Eur[\"Mean\"].replace(\"-\", np.nan)\n",
    "df_Eur[\"Mean\"] = pd.to_numeric(df_Eur[\"Mean\"])\n",
    "\n",
    "df_Eur[\"CV\"] = df_Eur[\"CV\"].replace(\"-\", np.nan)\n",
    "df_Eur[\"CV\"] = df_Eur[\"CV\"].replace(\" \", np.nan)\n",
    "df_Eur[\"CV\"] = pd.to_numeric(df_Eur[\"CV\"])\n",
    "\n",
    "df_Eur.info()"
   ]
  },
  {
   "cell_type": "markdown",
   "id": "1c40cd76",
   "metadata": {},
   "source": [
    "## Data analyse\n",
    "Er is bewust de keuze gemaakt om voor de modeleer fase de data te inventariseren. Dit is alleen ter observatie en schetst een beeld van de data. Dit zal worden gedaan a.d.h.v. de 8v's. Namelijk: Volume, Velocity, Variety, Variability, Varicity, Validity, Volatility en Visualisation.\n",
    "\n",
    "\n",
    "- Volume: 355 kB, 4685 rijen en 12 kolommen. Het volume zal gedurende het project niet veranderen.\n",
    "- Velocity: het snel verwerken van de data is nu niet van belang. Per jaar wordt er een nieuw rapport gepubliceerd. \n",
    "- Variety: de dataset bevat meetmethodes en metingen (denk aan 'Method name'). Daarnaast zijn er nog variabelen die de meetmethodes en metingen hebben ondersteund (denk aan 'Reference value'). Tot slot zijn er nog variabelen die een meting uniek maken (denk aan 'Year' en 'Type').\n",
    "- Variability: De dataset bevat medische resultaten van metingen. Deze metingen zijn statisch en de betekenis zal niet veranderen. Verder is de structuur van de data afgestemd op een dataformaat.\n",
    "- Varicity: deze dataset bevat het eindresultaat van het constant valideren en checken van de kwaliteit van de data. Rijen die lege waarden bevatten, zullen niet gelijk worden verwijderd. Het gebruik van die specifieke rijen zullen bepaald worden bij de data preparation fase.  \n",
    "- Validity: de gebruikte dataset is het resultaat van gepubliceerde medische rapporten die om zijn gezet naar dataframes.  \n",
    "- Volatility: de dataset bevat medische resultaten van metingen. Deze metingen zijn statisch en de betekenis zal niet veranderen.\n",
    "- Visualisation: voor de visualisatie worden er een pairplot en heatmap gebruikt."
   ]
  },
  {
   "cell_type": "code",
   "execution_count": null,
   "id": "4207a01a",
   "metadata": {},
   "outputs": [],
   "source": [
    "sns.pairplot(df_Eur)"
   ]
  },
  {
   "cell_type": "code",
   "execution_count": null,
   "id": "41a175de",
   "metadata": {},
   "outputs": [],
   "source": [
    "sns.heatmap(df_original.corr(),annot=True)"
   ]
  },
  {
   "cell_type": "markdown",
   "id": "69cef8e2",
   "metadata": {},
   "source": [
    "# Data analyse bevindingen\n",
    "- In de pairplot is te zien dat de reference value een vast waarde krijgt.\n",
    "- Bij de 'Mean' en 'Year' is er een range met onderbreking te zien. \n",
    "- Er zijn op het oog drie duidelijke groepen te zien bij de 'CV'-waarde en de 'Mean'.\n",
    "- Er is een hoge correlatie vast te stellen bij de 'reference value' en 'Mean'. Daarnaast is er nog enigszins een correlatie vast te stellen bij de 'Bias', 'Total Error' en 'CV'-waarde. Dit is te verklaren doordat bepaalde variabelen gebruikt worden om de andere te berekenen.\n",
    "- De correlatie tussen de 'Reference Value' en de 'Mean' is erg hoog, namelijk waarde 1. Note: Bij de clusteranalyse van de Amerikaanse data is er een linear verband te zien tussen de 'Mean' en 'Reference value'. Dat verband is hier niet te zien, maar verklaart de correlatie tussen deze twee variabelen wel. Namelijk dat de 'Mean' wordt gebruikt bij het berekenen van de 'Reference value'."
   ]
  },
  {
   "cell_type": "markdown",
   "id": "003a03f6",
   "metadata": {},
   "source": [
    "# Modeling\n"
   ]
  },
  {
   "cell_type": "markdown",
   "id": "f530753d",
   "metadata": {},
   "source": [
    "## Aantal clusters bepalen met een elbow plot"
   ]
  },
  {
   "cell_type": "code",
   "execution_count": null,
   "id": "ee05c90c",
   "metadata": {},
   "outputs": [],
   "source": [
    "df_model = df_Eur.copy()\n",
    "\n",
    "n_clusters_to_test = range(2, 11)\n",
    "inertias = []\n",
    "\n",
    "for n in n_clusters_to_test:\n",
    "    model = KMeans(n_clusters=n).fit(df_model)\n",
    "    inertias.append(model.inertia_)\n",
    "    \n",
    "sns.lineplot(x=n_clusters_to_test, y=inertias)"
   ]
  },
  {
   "cell_type": "markdown",
   "id": "b54eb6cd",
   "metadata": {},
   "source": [
    "## Eerste model met KMeans\n",
    "De keuze om het juiste aantal clusters te kiezen, heb ik gebaseerd op het kleinste aantal clusters met de grootste knik. In dit geval is dat bij 3 clusters.\n"
   ]
  },
  {
   "cell_type": "code",
   "execution_count": null,
   "id": "58a19579",
   "metadata": {},
   "outputs": [],
   "source": [
    "test = pd.DataFrame(columns = ['centroid_x', 'centroid_y'])\n",
    "\n",
    "model = KMeans(n_clusters=3, random_state=42).fit(df_model)\n",
    "df_model['cluster'] = model.labels_\n",
    "df_model['cluster'] = df_model['cluster'].astype('category')\n",
    "sns.pairplot(df_model, hue='cluster')"
   ]
  },
  {
   "cell_type": "markdown",
   "id": "1ca79c1b",
   "metadata": {},
   "source": [
    "# Analyse pair plot\n",
    "De rechte banden in de onderste rij - rechts, overlappen elkaar. Hieruit kan worden geconcludeerd dat de data niet genormaliseerd hoeft te worden.\n",
    "\n",
    "Opvallende punten bij de clusters:\n",
    "- Bij cluster 0 is te zien dat de datapunten verspreid zijn over de diverse jaren. De 'CV'-waarden liggen hier aan de hoge kant. \n",
    "- Bij cluster 1 is de data vooral gefocust op de recentere jaren zoals 2018 en 2020. Hierbij zijn lagere waarden te vinden van de reference value.\n",
    "- bij cluster 2 is de data vooral gefocust op de eerdere jaren zoals 2016 en 2017. Verder is te zien dat een lage 'CV'-waarde gegroupeerd wordt met hoge 'Mean'-waarden. \n",
    "\n",
    "\n",
    "# Cluster analyse"
   ]
  },
  {
   "cell_type": "code",
   "execution_count": null,
   "id": "4f6f82b4",
   "metadata": {},
   "outputs": [],
   "source": [
    "cluster_0 = df_model[df_model['cluster'] == 0]\n",
    "cluster_1 = df_model[df_model['cluster'] == 1]\n",
    "cluster_2 = df_model[df_model['cluster'] == 2]\n",
    "df_model['cluster'].value_counts()"
   ]
  },
  {
   "cell_type": "code",
   "execution_count": null,
   "id": "2ee25b9d",
   "metadata": {},
   "outputs": [],
   "source": [
    "sns.boxplot(x='cluster', y='CV', data=df_model)"
   ]
  },
  {
   "cell_type": "code",
   "execution_count": null,
   "id": "76230dd3",
   "metadata": {},
   "outputs": [],
   "source": [
    "sns.boxplot(x='cluster', y='Mean', data=df_model)"
   ]
  },
  {
   "cell_type": "code",
   "execution_count": null,
   "id": "e23d19a1",
   "metadata": {},
   "outputs": [],
   "source": [
    "sns.boxplot(x='cluster', y='Reference Value', data=df_model)"
   ]
  },
  {
   "cell_type": "code",
   "execution_count": null,
   "id": "c6542e38",
   "metadata": {},
   "outputs": [],
   "source": [
    "sns.relplot(x='Year', y='Reference Value', hue='cluster', data=df_model)"
   ]
  },
  {
   "cell_type": "code",
   "execution_count": null,
   "id": "7b3285c7",
   "metadata": {},
   "outputs": [],
   "source": [
    "f, axs = plt.subplots(1, 2, figsize=(10, 5), gridspec_kw=dict(width_ratios=[4, 3]))\n",
    "sns.scatterplot(data=df_model, x='Year', y='Reference Value', hue=\"cluster\", ax=axs[0])\n",
    "sns.barplot(x='Year', y='Reference Value', data=df_model, hue='cluster', ax=axs[1])\n",
    "f.tight_layout()"
   ]
  },
  {
   "cell_type": "markdown",
   "id": "8028e0d7",
   "metadata": {},
   "source": [
    "Bij deze scatterplot hebben cluster 2 en cluster 1 visueel de meeste datapunten. Wanneer hier meer wordt ingezoomd (barplot rechter visualisatie), is te zien dat cluster 0 juist alle datapunten bevat van de reference value, alleen niet zichtbaar zijn in de scatterplot door overlapping."
   ]
  },
  {
   "cell_type": "code",
   "execution_count": null,
   "id": "31ada356",
   "metadata": {},
   "outputs": [],
   "source": [
    "#Add data\n",
    "df_cluster_0 = pd.DataFrame(columns=['Method name', 'N (no. labs)', 'Mean', 'Bias', 'CV', 'Sample',\n",
    "       'Reference Value', 'Year', 'Source (CAP/EurA1c)', 'Type (Fresh/frozen)',\n",
    "       'Manufacturer', 'Total Error'])\n",
    "df_cluster_0 = df_original.loc[cluster_0.index, :]\n",
    "df_cluster_0['cluster'] = 0\n",
    "df_cluster_0.describe().transpose()"
   ]
  },
  {
   "cell_type": "code",
   "execution_count": null,
   "id": "a9d2c208",
   "metadata": {},
   "outputs": [],
   "source": [
    "df_cluster_1 = pd.DataFrame(columns=['Method name', 'N (no. labs)', 'Mean', 'Bias', 'CV', 'Sample',\n",
    "       'Reference Value', 'Year', 'Source (CAP/EurA1c)', 'Type (Fresh/frozen)',\n",
    "       'Manufacturer', 'Total Error'])\n",
    "df_cluster_1 = df_original.loc[cluster_1.index, :]\n",
    "df_cluster_1['cluster'] = 1\n",
    "df_cluster_1.describe().transpose()"
   ]
  },
  {
   "cell_type": "code",
   "execution_count": null,
   "id": "43e8d27f",
   "metadata": {},
   "outputs": [],
   "source": [
    "df_cluster_2 = pd.DataFrame(columns=['Method name', 'N (no. labs)', 'Mean', 'Bias', 'CV', 'Sample',\n",
    "       'Reference Value', 'Year', 'Source (CAP/EurA1c)', 'Type (Fresh/frozen)',\n",
    "       'Manufacturer', 'Total Error'])\n",
    "df_cluster_2 = df_original.loc[cluster_2.index, :]\n",
    "df_cluster_2['cluster'] = 2\n",
    "df_cluster_2.describe().transpose()"
   ]
  },
  {
   "cell_type": "code",
   "execution_count": null,
   "id": "15ae2817",
   "metadata": {},
   "outputs": [],
   "source": [
    "clustered_df= pd.concat([df_cluster_0, df_cluster_1, df_cluster_2], ignore_index=True)"
   ]
  },
  {
   "cell_type": "code",
   "execution_count": null,
   "id": "fd0067b4",
   "metadata": {},
   "outputs": [],
   "source": [
    "clustered_df.groupby('cluster')['Manufacturer'].value_counts()"
   ]
  },
  {
   "cell_type": "code",
   "execution_count": null,
   "id": "f8bc18e1",
   "metadata": {},
   "outputs": [],
   "source": [
    "clustered_df.groupby('cluster')['Type (Fresh/frozen)'].value_counts()"
   ]
  },
  {
   "cell_type": "markdown",
   "id": "d8629a43",
   "metadata": {},
   "source": [
    "# Evaluation\n",
    "\n",
    "Tijdens het uitwerken van de clusteranalyse is bij het valideren met de product owner naar voren gekomen, dat de Amerikaanse en Europese data niet met elkaar te vergelijken zijn. Als gevolg hiervan heb ik nieuwe clusteranalyses uitgevoerd waarbij deze data gescheiden van elkaar zijn. \n",
    "\n",
    "# Analyse uitwerking van clusters\n",
    "\n",
    "Bij het clusteren van de Europese data is in de pairplot een goede scheiding te zien tussen de clusters 1 & 2 en cluster 0. In de plot is te zien dat de hoogste CV-waarden zijn verdeeld in cluster 0. Verder is de range van de 'Mean'-waarden door de jaren heen uit elkaar gelopen om vervolgens in 2020 samengevoegd te zijn.\n",
    "\n",
    "Verdere bevindingen:\n",
    "- Cluster 0 bevat datapunten vanuit alle jaren. Daarnaast zijn in dit cluster de hogere 'CV'-waarden ingedeeld.\n",
    "- In cluster 2 zijn de hogere 'Mean'-waarden van eerdere jaren te vinden.\n",
    "- In de clusterverdeling is te zien dat er een onderscheid tussen de eerdere metingen en meer recentere metingen lijkt te zijn. Waarbij cluster 2 oudere metingen bevat en cluster 1 de meest actuele metingen.\n",
    "- De manufacturers zijn gelijkmatig verdeeld tussen de clusters.\n",
    "- De verhouding van het type tot de clustering lijkt ook in evenwicht te zijn. De grotere clusters bevatten meer 'Frozen' samples dan het kleinere cluster.\n",
    "\n",
    "\n",
    "# Conclusie\n",
    "\n",
    "Om meer inzicht te bieden, willen we gaan kijken naar mogelijke relaties die er nog niet zijn. Dit is gedaan door middel van het clusteren van de Europese meetmethoden. In de clusteranalyse zijn geen nieuwe relaties gelegd.  \n",
    "\n",
    "\n",
    "# Advies\n",
    "\n",
    "In de bevindingen die zijn gedaan, kunnen geen concrete relaties gelegd worden. Hiermee is het advies dan ook om dit model, de gemaakte bevindingen en de conclusie als aanleiding te gebruiken voor andere onderzoeken. \n",
    "\n",
    "\n",
    "Een vervolgonderzoek zou de invloed van 'Year' op de clustering zijn. \n",
    "\n",
    "\n",
    "#### Invloed van 'Year' op de clustering\n",
    "Bij de clusterindeling zijn er 3 clusters gevormd. Eén met eerdere metingen, één met de meest actuele metingen en het laatste cluster bevat metingen van alle jaren, waarbij het lijkt dat de 'CV'-waarde hier aan de hoge kant ligt. Als advies geef ik mee om in een vervolg onderzoek/clusteranalyse te gaan kijken naar de invloed van het 'Year' op de clusterindeling. Hier zou een andere clusterindeling kunnen komen waarbij de focus meer ligt op andere variabelen en daardoor mogelijke andere relaties gelegd kunnen worden.\n",
    "\n",
    "\n",
    "\n",
    "#### Ethische aspecten \n",
    "Om verantwoordelijk om te gaan met data is het belangrijk om een ethische invalshoek bij het proces te betrekken.  \n",
    "\n",
    "Integriteit\n",
    "\n",
    "Daarnaast is 'integriteit' een belangrijke waarde bij het beheren van data. We hebben naar deze waarde zoveel mogelijk gestreeft. De HbA1c meetmethoden zijn, door de jaren heen, veel veranderd. Zo zijn benaming van meetmethoden veranderd, sommige meetmethoden hielden op en er zijn later nieuwe meetmethoden bij gekomen. Hierbij valt desondanks niet met zekerheid te zeggen dat de meetmethoden geheel 100% nauwkeurig genormaliseerd zijn. Bij het normaliseren zat veel onderzoek achter en door veel desk research zijn is er een meer complete dataset te ontwikkelen. \n",
    "\n",
    "Privacy\n",
    "\n",
    "Ten slotte is de waarde 'privacy' hier geheel mee rekening gehouden. Alleen openbare gepubliceerde rapporten zijn gebruikt om deze voorspelling te realiseren. Hier is verder geen data te herleiden naar patiënteninformatie. Verder zijn de fabrikantnamen wel publiekelijk. \n",
    "\n",
    " "
   ]
  },
  {
   "cell_type": "markdown",
   "id": "6b692f2e",
   "metadata": {},
   "source": []
  }
 ],
 "metadata": {
  "interpreter": {
   "hash": "26de051ba29f2982a8de78e945f0abaf191376122a1563185a90213a26c5da77"
  },
  "kernelspec": {
   "display_name": "Python 3.10.4 64-bit",
   "language": "python",
   "name": "python3"
  },
  "language_info": {
   "codemirror_mode": {
    "name": "ipython",
    "version": 3
   },
   "file_extension": ".py",
   "mimetype": "text/x-python",
   "name": "python",
   "nbconvert_exporter": "python",
   "pygments_lexer": "ipython3",
   "version": "3.10.4"
  }
 },
 "nbformat": 4,
 "nbformat_minor": 5
}
