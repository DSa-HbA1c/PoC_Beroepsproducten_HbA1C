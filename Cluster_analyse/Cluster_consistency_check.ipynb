{
 "cells": [
  {
   "cell_type": "code",
   "execution_count": null,
   "metadata": {},
   "outputs": [],
   "source": [
    "import pandas as pd\n",
    "import seaborn as sns\n",
    "import numpy as np\n",
    "from sklearn.cluster import KMeans, BisectingKMeans\n",
    "from matplotlib import pyplot as plt\n",
    "df=pd.read_excel(\"Complete-dataset-FINAL.xlsx\")"
   ]
  },
  {
   "cell_type": "markdown",
   "metadata": {},
   "source": [
    "# Over dit document\n",
    "In dit document worden meerdere clustertechnieken uitgewerkt om te kijken naar de verdeling van clusters. Dit is naar aanleiding van een inconsistente clusterverdeling bij de parameters 'Reference value' en 'Year'. \n",
    "\n",
    "Auteur: Eefkje-Femke Jansen van der Sligte"
   ]
  },
  {
   "cell_type": "markdown",
   "metadata": {},
   "source": [
    "# Data preparation "
   ]
  },
  {
   "cell_type": "code",
   "execution_count": null,
   "metadata": {},
   "outputs": [],
   "source": [
    "df = df.drop(columns=['N (no. labs)', 'Source (CAP/EurA1c)', 'Type (Fresh/frozen)', 'Manufacturer', 'Sample', 'Method name']) # kolomm weggooien\n",
    "df.columns "
   ]
  },
  {
   "cell_type": "code",
   "execution_count": null,
   "metadata": {},
   "outputs": [],
   "source": [
    "df[\"Bias\"] = df[\"Bias\"].replace(\"-\", np.nan)\n",
    "df[\"Bias\"] = pd.to_numeric(df[\"Bias\"])\n",
    "\n",
    "df[\"Mean\"] = df[\"Mean\"].replace(\"-\", np.nan)\n",
    "df[\"Mean\"] = pd.to_numeric(df[\"Mean\"])\n",
    "\n",
    "df[\"CV\"] = df[\"CV\"].replace(\"-\", np.nan)\n",
    "df[\"CV\"] = df[\"CV\"].replace(\" \", np.nan)\n",
    "df[\"CV\"] = pd.to_numeric(df[\"CV\"])\n",
    "\n",
    "df.info()"
   ]
  },
  {
   "cell_type": "code",
   "execution_count": null,
   "metadata": {},
   "outputs": [],
   "source": [
    "df = df.dropna()"
   ]
  },
  {
   "cell_type": "markdown",
   "metadata": {},
   "source": [
    "# Modeling\n",
    "### Techniek 1"
   ]
  },
  {
   "cell_type": "code",
   "execution_count": null,
   "metadata": {},
   "outputs": [],
   "source": [
    "df_model = df.copy()\n",
    "bisect_means = BisectingKMeans(n_clusters=4, random_state=0).fit(df_model)\n",
    "df_model['cluster'] = bisect_means.labels_\n",
    "\n",
    "df_model['cluster'] = df_model['cluster'].astype('category')\n",
    "sns.pairplot(df_model, hue='cluster')"
   ]
  },
  {
   "cell_type": "markdown",
   "metadata": {},
   "source": [
    "### Techniek 2"
   ]
  },
  {
   "cell_type": "code",
   "execution_count": null,
   "metadata": {},
   "outputs": [],
   "source": [
    "from scipy.cluster.vq import kmeans, vq, kmeans2"
   ]
  },
  {
   "cell_type": "code",
   "execution_count": null,
   "metadata": {},
   "outputs": [],
   "source": [
    "# Generate cluster centers and labels\n",
    "cluster_centers, _ = kmeans(df[['Reference Value', 'Year']], 4)\n",
    "df['cluster_labels'], _ = vq(df[['Reference Value', 'Year']], cluster_centers)\n",
    "# VQ function assists the kmeans algorithm by finding the new centroids.\n",
    "\n",
    "#Show clusters\n",
    "sns.pairplot(df, hue='cluster_labels', palette='deep')\n",
    "plt.show()"
   ]
  },
  {
   "cell_type": "code",
   "execution_count": null,
   "metadata": {},
   "outputs": [],
   "source": [
    "sns.scatterplot(x='Year', y='Reference Value', hue='cluster_labels', data=df, palette='deep')\n"
   ]
  },
  {
   "cell_type": "markdown",
   "metadata": {},
   "source": [
    "# Techniek 3\n",
    "Note:\n",
    "\n",
    "Het verschil tussen kmeans en kmeans2 zijn de uitgangspunten wanneer het clusteren van data stopt. De kmeans zal het clusteren stoppen op basis van gebrek aan verandering (op basis van de meest lage transformatie uitkomst) en de kmeans2 zal naar de meest optimale clusterindeling zoeken."
   ]
  },
  {
   "cell_type": "code",
   "execution_count": null,
   "metadata": {},
   "outputs": [],
   "source": [
    "# Generate cluster centers and labels\n",
    "cluster_centers, _ = kmeans2(df, 4,minit='points')\n",
    "df['cluster_labels'], _ = vq(df, cluster_centers)\n",
    "# Plot clusters\n",
    "df['cluster'] = df['cluster_labels'].astype('category')\n",
    "sns.pairplot(df, hue='cluster_labels', palette='deep')"
   ]
  },
  {
   "cell_type": "markdown",
   "metadata": {},
   "source": [
    "# Evaluation\n",
    "\n",
    "Bij de technieken die hier boven zijn uitgewerkt, zijn voornamelijk dezelfde clusterindelingen terug te zien. Bij het specifiek clusteren van de 'Reference value' en de 'year' is een andere clusterindeling ontstaan. Hier is te zien dat de methode die gebruikt wordt bij het clusteren en de parameters waarop geclusterd wordt, het resultaat beïnvloeden. Verder zijn er geen andere grote verschillen in andere variabelen geconstateerd tussen de 3 uitgewerkte clusteranalyses en de voorgaande clusteranalyse. \n",
    "\n",
    "\n",
    "## Conclusie\n",
    "De verschillende technieken en indeling van clusters laten zien dat de clustering van de dataset over het algemeen hetzelfde resultaat oplevert. Indien externe parameters zijn weggehaald of toegevoegd (zoals bij techniek 2) zal de clusterindeling hierin veranderen. \n",
    "\n",
    "\n",
    "## Advies\n",
    "Het advies is om de technieken mee te nemen bij het uitvoeren van de clusteranalyse. Door meer parameters (randomstate) te gebruiken, is de clusteranalyse beter na te bootsen. \n",
    "\n",
    "\n",
    "\n",
    "Note: de voorgaande cluster analyse is uitgevoerd, voordat er besloten was om de data te scheiden op basis van rapportages (Amerikaans/Europees). Daarom is de data niet gescheiden."
   ]
  },
  {
   "cell_type": "markdown",
   "metadata": {},
   "source": []
  }
 ],
 "metadata": {
  "interpreter": {
   "hash": "26de051ba29f2982a8de78e945f0abaf191376122a1563185a90213a26c5da77"
  },
  "kernelspec": {
   "display_name": "Python 3.10.4 64-bit",
   "language": "python",
   "name": "python3"
  },
  "language_info": {
   "codemirror_mode": {
    "name": "ipython",
    "version": 3
   },
   "file_extension": ".py",
   "mimetype": "text/x-python",
   "name": "python",
   "nbconvert_exporter": "python",
   "pygments_lexer": "ipython3",
   "version": "3.10.4"
  },
  "orig_nbformat": 4
 },
 "nbformat": 4,
 "nbformat_minor": 2
}
